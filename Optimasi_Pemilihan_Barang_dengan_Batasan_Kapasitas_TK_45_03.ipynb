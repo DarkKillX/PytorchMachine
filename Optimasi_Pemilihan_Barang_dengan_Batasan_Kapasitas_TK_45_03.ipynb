{
  "nbformat": 4,
  "nbformat_minor": 0,
  "metadata": {
    "colab": {
      "provenance": [],
      "include_colab_link": true
    },
    "kernelspec": {
      "name": "python3",
      "display_name": "Python 3"
    },
    "language_info": {
      "name": "python"
    }
  },
  "cells": [
    {
      "cell_type": "markdown",
      "metadata": {
        "id": "view-in-github",
        "colab_type": "text"
      },
      "source": [
        "<a href=\"https://colab.research.google.com/github/DarkKillX/PytorchMachine/blob/main/Optimasi_Pemilihan_Barang_dengan_Batasan_Kapasitas_TK_45_03.ipynb\" target=\"_parent\"><img src=\"https://colab.research.google.com/assets/colab-badge.svg\" alt=\"Open In Colab\"/></a>"
      ]
    },
    {
      "cell_type": "markdown",
      "source": [
        "Khairi Hibatullah Ridho (1103228240)\n",
        "\n",
        "Dery Hidayat (1103228181)\n",
        "\n",
        "Reza Rizky Adha (1103228182)"
      ],
      "metadata": {
        "id": "AkgSNRwIHOu4"
      }
    },
    {
      "cell_type": "markdown",
      "source": [
        "## 1. Inisialisasi"
      ],
      "metadata": {
        "id": "-Hl9nuqVnsfB"
      }
    },
    {
      "cell_type": "code",
      "execution_count": null,
      "metadata": {
        "id": "8xivcmYJnlK-"
      },
      "outputs": [],
      "source": [
        "import numpy as np\n",
        "import random\n",
        "from random import randint\n",
        "\n",
        "# Mendefinisikan data barang\n",
        "banyak_barang = np.arange(1, 11)\n",
        "berat = np.array([5, 7, 9, 4, 1, 6, 2, 8, 3, 10])\n",
        "nilai_prioritas = np.array([70, 10, 100, 40, 50, 90, 20, 80, 60, 30])\n",
        "\n",
        "# Menampilkan informasi barang\n",
        "print('Item No.   Berat   Nilai Prioritas')\n",
        "for i in range(len(banyak_barang)):\n",
        "    print(f'{banyak_barang[i]}          {berat[i]}         {nilai_prioritas[i]}')\n",
        "\n",
        "# Menerima input dari pengguna\n",
        "jumlah_kromosom = int(input(\"Masukkan Jumlah Kromosom Yang Diinginkan: \"))\n",
        "jumlah_pop = (jumlah_kromosom, len(banyak_barang))\n",
        "num_generations = int(input(\"Masukkan Jumlah Maksimal Generasi Yang Diinginkan: \"))\n",
        "maksimal_barang = int(input(\"Masukkan Jumlah Maksimal Barang Yang Dapat Dibawa: \"))\n",
        "nilai_pc = float(input(\"Masukkan Nilai Crossover Rate: \"))\n",
        "nilai_pm = float(input(\"Masukkan Nilai Mutation Rate: \"))\n",
        "\n",
        "# Inisialisasi populasi awal\n",
        "populasi_awal = np.random.randint(2, size=jumlah_pop).astype(int)\n",
        "print('Initial populasi: \\n{}'.format(populasi_awal))"
      ]
    },
    {
      "cell_type": "markdown",
      "source": [
        "1. **Mendefinisikan Data Barang**:\n",
        "   - `banyak_barang`, `berat`, dan `nilai_prioritas` merupakan array yang menyimpan informasi tentang barang-barang yang tersedia. Setiap barang memiliki nomor identifikasi, berat, dan nilai prioritasnya masing-masing.\n",
        "\n",
        "2. **Menampilkan Informasi Barang**:\n",
        "   - Bagian ini mencetak informasi tentang barang-barang yang tersedia, termasuk nomor, berat, dan nilai prioritasnya.\n",
        "\n",
        "3. **Menerima Input dari Pengguna**:\n",
        "   - Bagian ini meminta pengguna untuk memasukkan beberapa parameter untuk algoritma, seperti jumlah kromosom dalam populasi, jumlah maksimal generasi, jumlah maksimal barang yang dapat dibawa, nilai crossover rate, dan nilai mutation rate.\n",
        "\n",
        "4. **Inisialisasi Populasi Awal**:\n",
        "   - Populasi awal dari kromosom dibuat secara acak. Kromosom ini adalah solusi potensial untuk masalah. Dalam konteks masalah Knapsack, setiap kromosom merupakan representasi dari set barang yang dipilih atau tidak dipilih (dinyatakan dengan 1 atau 0).\n",
        "\n",
        "Kegunaan umum dari kode ini adalah untuk mengimplementasikan Algoritma Genetika, sebuah metode pencarian berbasis populasi yang menginspirasi dari proses evolusi biologis. Algoritma ini biasanya digunakan untuk menemukan solusi optimal atau mendekati optimal dalam masalah optimasi yang kompleks, seperti dalam kasus ini, memilih kombinasi barang dengan nilai prioritas tertinggi tanpa melebihi batas berat tertentu (masalah Knapsack)."
      ],
      "metadata": {
        "id": "yfUI_JRmGQMP"
      }
    },
    {
      "cell_type": "markdown",
      "source": [
        "## 2. Fitness"
      ],
      "metadata": {
        "id": "R3WBVwY5npeI"
      }
    },
    {
      "cell_type": "code",
      "source": [
        "# Fungsi untuk menghitung kebugaran setiap kromosom\n",
        "def cal_fitness(berat, nilai_prioritas, populasi, threshold):\n",
        "    fitness = np.empty(populasi.shape[0])\n",
        "    for i in range(populasi.shape[0]):\n",
        "        total_berat = np.sum(populasi[i] * berat)\n",
        "        total_nilai = np.sum(populasi[i] * nilai_prioritas)\n",
        "        fitness[i] = total_nilai if total_berat <= threshold else 0\n",
        "    return fitness.astype(int)"
      ],
      "metadata": {
        "id": "WytDYFcCnmrO"
      },
      "execution_count": null,
      "outputs": []
    },
    {
      "cell_type": "markdown",
      "source": [
        "Fungsi `cal_fitness` dalam kode yang digunakan untuk menghitung nilai kebugaran (fitness) setiap kromosom dalam populasi. Kegunaannya adalah sebagai berikut:\n",
        "\n",
        "1. **Menghitung Total Berat dan Total Nilai**:\n",
        "   - Untuk setiap kromosom dalam populasi, fungsi ini menghitung total berat dan total nilai. Kromosom di sini merepresentasikan satu set barang yang dipilih, di mana setiap gen dalam kromosom (0 atau 1) menandakan apakah barang tertentu diambil atau tidak.\n",
        "   - `total_berat` dihitung dengan menjumlahkan berat semua barang yang dipilih oleh kromosom tersebut. Ini dilakukan dengan mengalikan setiap gen dalam kromosom dengan berat barang yang sesuai dan menjumlahkan hasilnya.\n",
        "   - `total_nilai` dihitung dengan cara yang serupa, di mana nilai prioritas barang yang dipilih dijumlahkan.\n",
        "\n",
        "2. **Penilaian Kebugaran Berdasarkan Kriteria Tertentu**:\n",
        "   - Nilai kebugaran (`fitness[i]`) untuk setiap kromosom dihitung berdasarkan total nilai dari barang yang dipilih. Namun, ada batasan: jika total berat barang yang dipilih melebihi threshold (batas maksimum yang diizinkan), maka nilai kebugarannya diatur menjadi 0. Ini mencegah pemilihan set barang yang terlalu berat.\n",
        "   - Jadi, kromosom hanya akan memiliki nilai kebugaran yang tinggi jika ia berhasil memilih kombinasi barang dengan nilai prioritas tinggi tanpa melebihi batas berat.\n",
        "\n",
        "3. **Mengembalikan Array Nilai Kebugaran**:\n",
        "   - Fungsi ini mengembalikan array nilai kebugaran untuk setiap kromosom dalam populasi. Nilai ini nantinya digunakan dalam algoritma untuk proses seleksi, crossover, dan mutasi.\n",
        "\n",
        "Secara umum, fungsi `cal_fitness` memainkan peran penting dalam menentukan seberapa \"baik\" setiap solusi (kromosom) dalam menyelesaikan masalah Knapsack yang diberikan, dengan mempertimbangkan baik nilai prioritas barang maupun batasan berat."
      ],
      "metadata": {
        "id": "MnCQeXgFHHGJ"
      }
    },
    {
      "cell_type": "markdown",
      "source": [
        "## 3. Seleksi"
      ],
      "metadata": {
        "id": "WFtpHVaSnwjB"
      }
    },
    {
      "cell_type": "code",
      "source": [
        "# Fungsi untuk memilih orang tua dari populasi\n",
        "def selection(fitness, num_parents, populasi):\n",
        "    parents = np.empty((num_parents, populasi.shape[1]))\n",
        "    for i in range(num_parents):\n",
        "        max_fitness_idx = np.argmax(fitness)\n",
        "        parents[i, :] = populasi[max_fitness_idx, :]\n",
        "        fitness[max_fitness_idx] = -999999\n",
        "    return parents"
      ],
      "metadata": {
        "id": "r9YE2rUZnwVC"
      },
      "execution_count": null,
      "outputs": []
    },
    {
      "cell_type": "markdown",
      "source": [
        "Fungsi `selection` dalam kode yabg digunakan untuk memilih sekelompok \"orang tua\" dari populasi saat ini. Orang tua ini nantinya akan digunakan dalam proses crossover untuk menghasilkan generasi baru. Berikut adalah kegunaan dan cara kerja fungsi ini:\n",
        "\n",
        "1. **Menginisialisasi Array untuk Menampung Orang Tua**:\n",
        "   - Fungsi ini pertama-tama membuat sebuah array kosong, `parents`, untuk menyimpan kromosom yang terpilih sebagai orang tua. Ukuran array ini ditentukan oleh `num_parents`, yaitu jumlah orang tua yang ingin dipilih.\n",
        "\n",
        "2. **Memilih Orang Tua Berdasarkan Kebugaran Tertinggi**:\n",
        "   - Fungsi ini memilih `num_parents` kromosom dari populasi berdasarkan nilai kebugaran (`fitness`) mereka. Pemilihan dilakukan dengan mencari indeks dari kromosom dengan kebugaran tertinggi menggunakan `np.argmax(fitness)`.\n",
        "   - Setelah menemukan kromosom dengan kebugaran tertinggi, fungsi ini menyalin kromosom tersebut ke dalam array `parents`.\n",
        "   - Untuk mencegah kromosom yang sama dipilih lagi, nilai kebugarannya diubah menjadi sebuah nilai sangat rendah (dalam kasus ini, `-999999`). Ini memastikan bahwa iterasi berikutnya akan memilih kromosom dengan kebugaran tertinggi berikutnya.\n",
        "\n",
        "3. **Mengembalikan Orang Tua yang Terpilih**:\n",
        "   - Setelah proses pemilihan selesai, fungsi mengembalikan array `parents` yang berisi kromosom terpilih.\n",
        "\n",
        "Secara keseluruhan, fungsi `selection` ini berperan penting dalam proses evolusi algoritma genetika. Dengan memilih individu yang paling fit dari populasi, algoritma ini meningkatkan kemungkinan sifat-sifat baik dari orang tua akan diwariskan ke generasi berikutnya, sehingga secara bertahap mendekati solusi optimal dari masalah yang diberikan."
      ],
      "metadata": {
        "id": "Xh3L1u6uICij"
      }
    },
    {
      "cell_type": "markdown",
      "source": [
        "## 4. Crossover"
      ],
      "metadata": {
        "id": "6iwPvo5an16x"
      }
    },
    {
      "cell_type": "code",
      "source": [
        "# Fungsi untuk melakukan crossover dan menghasilkan keturunan\n",
        "def crossover(parents, num_offsprings, crossover_rate):\n",
        "    offsprings = np.empty((num_offsprings, parents.shape[1]))\n",
        "    for i in range(num_offsprings):\n",
        "        while True:\n",
        "            parent1_index = i % parents.shape[0]\n",
        "            parent2_index = (i + 1) % parents.shape[0]\n",
        "            if random.random() > crossover_rate:\n",
        "                continue\n",
        "            crossover_point = randint(1, parents.shape[1]-1)\n",
        "            offsprings[i, 0:crossover_point] = parents[parent1_index, 0:crossover_point]\n",
        "            offsprings[i, crossover_point:] = parents[parent2_index, crossover_point:]\n",
        "            break\n",
        "    return offsprings"
      ],
      "metadata": {
        "id": "u8HdHqVgn2Nj"
      },
      "execution_count": null,
      "outputs": []
    },
    {
      "cell_type": "markdown",
      "source": [
        "Fungsi `crossover` dalam kode yang digunakan untuk melakukan operasi crossover. Proses crossover adalah salah satu komponen utama dalam algoritma genetika, yang berfungsi untuk menghasilkan keturunan dengan menggabungkan sifat dari dua orang tua. Berikut adalah penjelasan tentang bagaimana fungsi ini bekerja:\n",
        "\n",
        "1. **Menginisialisasi Array untuk Menampung Keturunan (Offsprings)**:\n",
        "   - Fungsi ini pertama-tama membuat sebuah array kosong, `offsprings`, untuk menyimpan keturunan yang akan dihasilkan. Ukuran array ini ditentukan oleh `num_offsprings`, yaitu jumlah keturunan yang ingin dihasilkan.\n",
        "\n",
        "2. **Memilih Indeks Orang Tua untuk Setiap Keturunan**:\n",
        "   - Untuk setiap keturunan yang akan dihasilkan, fungsi ini memilih dua orang tua dari array `parents`. Pemilihan ini didasarkan pada indeks: `parent1_index` dan `parent2_index`. Cara pemilihan ini memastikan variasi dalam pemilihan orang tua.\n",
        "\n",
        "3. **Menerapkan Crossover Berdasarkan Crossover Rate**:\n",
        "   - Crossover hanya terjadi jika nilai acak (dari `random.random()`) kurang dari atau sama dengan `crossover_rate`. Ini memungkinkan kontrol atas frekuensi crossover.\n",
        "   - Jika kondisi ini terpenuhi, fungsi ini menentukan `crossover_point`, yaitu titik di mana kromosom orang tua akan dipotong dan digabungkan.\n",
        "   - Bagian pertama kromosom keturunan diambil dari bagian pertama kromosom orang tua pertama, dan bagian kedua kromosom keturunan diambil dari bagian kedua kromosom orang tua kedua.\n",
        "\n",
        "4. **Mengembalikan Keturunan yang Terhasilkan**:\n",
        "   - Proses ini diulangi sampai jumlah keturunan yang diinginkan terpenuhi.\n",
        "   - Setelah semua keturunan dihasilkan, fungsi mengembalikan array `offsprings` yang berisi kromosom-kromosom keturunan.\n",
        "\n",
        "Proses crossover ini penting karena memungkinkan kombinasi gen-gen baru, yang dapat menyebabkan variasi dalam populasi dan membantu dalam pencarian solusi yang optimal atau lebih baik. Ini merupakan cara alami algoritma genetika dalam mengeksplorasi ruang solusi masalah."
      ],
      "metadata": {
        "id": "ovsHYiidIfWi"
      }
    },
    {
      "cell_type": "markdown",
      "source": [
        "## 5. Mutasi"
      ],
      "metadata": {
        "id": "oy5AhMpVn6nV"
      }
    },
    {
      "cell_type": "code",
      "source": [
        "# Fungsi untuk melakukan mutasi pada keturunan\n",
        "def mutation(offsprings, mutation_rate):\n",
        "    mutants = np.copy(offsprings)\n",
        "    for i in range(mutants.shape[0]):\n",
        "        if random.random() > mutation_rate:\n",
        "            continue\n",
        "        mutation_point = randint(0, offsprings.shape[1] - 1)\n",
        "        mutants[i, mutation_point] = 1 if mutants[i, mutation_point] == 0 else 0\n",
        "    return mutants"
      ],
      "metadata": {
        "id": "ghm2opj1n6bB"
      },
      "execution_count": null,
      "outputs": []
    },
    {
      "cell_type": "markdown",
      "source": [
        "Fungsi `mutation` dalam kode yang digunakan untuk melakukan mutasi pada keturunan (offsprings). Mutasi adalah proses mengubah nilai gen tertentu dalam kromosom secara acak, dan ini adalah mekanisme penting dalam algoritma genetika untuk memperkenalkan variasi genetik ke dalam populasi. Berikut adalah penjelasan tentang bagaimana fungsi ini bekerja:\n",
        "\n",
        "1. **Membuat Salinan dari Keturunan**:\n",
        "   - Fungsi ini pertama-tama membuat salinan dari array `offsprings`. Ini penting untuk memastikan bahwa mutasi hanya diterapkan pada keturunan baru dan tidak mengubah kromosom orang tua asli.\n",
        "\n",
        "2. **Iterasi Melalui Setiap Keturunan**:\n",
        "   - Fungsi ini mengiterasi melalui setiap keturunan dalam array `mutants` (salinan dari `offsprings`).\n",
        "\n",
        "3. **Menerapkan Mutasi Berdasarkan Mutation Rate**:\n",
        "   - Untuk setiap keturunan, fungsi ini terlebih dahulu memeriksa apakah mutasi harus diterapkan. Ini dilakukan dengan membandingkan nilai acak (dari `random.random()`) dengan `mutation_rate`. Jika nilai acak lebih besar, mutasi tidak diterapkan untuk keturunan tersebut.\n",
        "   - Jika mutasi diterapkan, fungsi ini menentukan `mutation_point`, yaitu indeks gen dalam kromosom yang akan dimutasi.\n",
        "   - Mutasi dilakukan dengan mengubah nilai gen di `mutation_point`. Jika gen tersebut adalah 0, ia diubah menjadi 1, dan sebaliknya. Ini adalah contoh mutasi bit flip.\n",
        "\n",
        "4. **Mengembalikan Keturunan yang Dimutasi**:\n",
        "   - Setelah iterasi selesai, fungsi mengembalikan array `mutants` yang berisi keturunan yang telah dimutasi.\n",
        "\n",
        "Proses mutasi ini sangat penting dalam algoritma genetika karena mencegah konvergensi prematur ke solusi lokal dan membantu menjaga keragaman genetik dalam populasi, yang sangat penting untuk pencarian solusi optimal dalam ruang solusi yang luas."
      ],
      "metadata": {
        "id": "bn6OXWIcJGfG"
      }
    },
    {
      "cell_type": "markdown",
      "source": [
        "## 6. Optimasi"
      ],
      "metadata": {
        "id": "Az51iG49n-vV"
      }
    },
    {
      "cell_type": "code",
      "source": [
        "# Fungsi untuk menjalankan algoritma genetika dan mencari solusi terbaik\n",
        "def optimize(berat, nilai_prioritas, populasi, jumlah_pop, num_generations, threshold, nilai_pc, nilai_pm):\n",
        "    num_parents = jumlah_pop[0] // 2\n",
        "    num_offsprings = jumlah_pop[0] - num_parents\n",
        "    fitness_history = []\n",
        "\n",
        "    for generation in range(num_generations):\n",
        "        print(f'Generasi {generation + 1}:')\n",
        "\n",
        "        # Menghitung kebugaran untuk setiap individu dalam populasi\n",
        "        fitness = cal_fitness(berat, nilai_prioritas, populasi, threshold)\n",
        "        fitness_history.append(fitness)\n",
        "        print(f'Kebugaran: {fitness}')\n",
        "\n",
        "        # Memilih orang tua untuk crossover\n",
        "        parents = selection(fitness, num_parents, populasi)\n",
        "        print('Orang tua terpilih:\\n', parents)\n",
        "\n",
        "        # Menghasilkan keturunan melalui crossover\n",
        "        offsprings = crossover(parents, num_offsprings, nilai_pc)\n",
        "        print('Keturunan baru:\\n', offsprings)\n",
        "\n",
        "        # Menerapkan mutasi pada keturunan\n",
        "        mutants = mutation(offsprings, nilai_pm)\n",
        "        print('Keturunan setelah mutasi:\\n', mutants)\n",
        "\n",
        "        # Memperbarui populasi dengan orang tua dan keturunan baru\n",
        "        populasi[:num_parents, :] = parents\n",
        "        populasi[num_parents:, :] = mutants\n",
        "\n",
        "    return populasi, fitness_history\n",
        "\n",
        "# Menjalankan optimasi\n",
        "optimized_populasi, history = optimize(berat, nilai_prioritas, populasi_awal, jumlah_pop, num_generations, maksimal_barang, nilai_pc, nilai_pm)\n",
        "\n",
        "# Menampilkan hasil\n",
        "print('Populasi Terakhir:\\n', optimized_populasi)\n"
      ],
      "metadata": {
        "id": "-K4M-Vpun_F9"
      },
      "execution_count": null,
      "outputs": []
    },
    {
      "cell_type": "markdown",
      "source": [
        "Fungsi `optimize` dalam kode adalah fungsi utama yang menggabungkan semua komponen Algoritma Genetika untuk menyelesaikan masalah yang diberikan. Fungsi ini mengatur bagaimana populasi berkembang melalui generasi, dengan mengaplikasikan proses seleksi, crossover, dan mutasi. Berikut ini adalah penjelasan langkah demi langkah tentang bagaimana fungsi ini bekerja:\n",
        "\n",
        "1. **Inisialisasi dan Persiapan**:\n",
        "   - Fungsi ini menerima berbagai parameter, termasuk data barang (berat dan nilai prioritas), populasi awal, jumlah kromosom dalam populasi (`jumlah_pop`), jumlah generasi maksimal (`num_generations`), batas berat maksimal (`threshold`), dan nilai untuk crossover rate (`nilai_pc`) dan mutation rate (`nilai_pm`).\n",
        "   - Jumlah orang tua (`num_parents`) dan keturunan (`num_offsprings`) untuk setiap generasi dihitung. Biasanya, separuh dari populasi dipilih sebagai orang tua.\n",
        "\n",
        "2. **Iterasi Melalui Generasi**:\n",
        "   - Fungsi ini mengiterasi melalui jumlah generasi yang ditentukan (`num_generations`). Pada setiap generasi, langkah-langkah berikut dijalankan:\n",
        "     - Menghitung kebugaran setiap kromosom dalam populasi menggunakan fungsi `cal_fitness`.\n",
        "     - Memilih orang tua dari populasi berdasarkan kebugaran menggunakan fungsi `selection`.\n",
        "     - Membuat keturunan baru melalui proses crossover dengan fungsi `crossover`.\n",
        "     - Menerapkan mutasi pada keturunan menggunakan fungsi `mutation`.\n",
        "     - Memperbarui populasi dengan menggabungkan orang tua dan keturunan yang baru.\n",
        "\n",
        "3. **Menyimpan Riwayat Kebugaran**:\n",
        "   - Riwayat kebugaran (`fitness_history`) dari setiap generasi disimpan. Ini berguna untuk analisis lanjutan tentang bagaimana populasi berkembang seiring waktu.\n",
        "\n",
        "4. **Mengembalikan Hasil**:\n",
        "   - Setelah semua generasi telah diproses, fungsi mengembalikan populasi terakhir dan riwayat kebugaran. Populasi terakhir ini mengandung kromosom-kromosom yang telah melewati proses evolusi algoritma genetika.\n",
        "\n",
        "5. **Menampilkan Hasil**:\n",
        "   - Setelah `optimize` dijalankan, kode mencetak populasi terakhir untuk menunjukkan hasil akhir dari proses evolusi.\n",
        "\n",
        "Secara umum, fungsi `optimize` ini bertanggung jawab untuk menjalankan algoritma genetika secara keseluruhan, memandu evolusi populasi dari satu generasi ke generasi berikutnya, dan mencari solusi terbaik untuk masalah yang diberikan. Ini mencakup memaksimalkan nilai prioritas barang yang dipilih sambil memastikan total berat tidak melebihi batas yang ditetapkan."
      ],
      "metadata": {
        "id": "XoZjiBkQKKaA"
      }
    },
    {
      "cell_type": "markdown",
      "source": [
        "## 7. Hasil Akhir"
      ],
      "metadata": {
        "id": "MFPSFU12JTQG"
      }
    },
    {
      "cell_type": "code",
      "source": [
        "# Menjalankan optimasi\n",
        "optimized_populasi, history = optimize(berat, nilai_prioritas, populasi_awal, jumlah_pop, num_generations, maksimal_barang, nilai_pc, nilai_pm)\n",
        "\n",
        "# Menentukan kromosom dengan kebugaran tertinggi\n",
        "best_fitness_idx = np.argmax(history[-1])\n",
        "best_chromosome = optimized_populasi[best_fitness_idx, :]\n",
        "print('Kromosom dengan kebugaran tertinggi: \\n{}'.format(best_chromosome))\n",
        "\n",
        "# Menghitung barang yang dipilih berdasarkan kromosom terbaik\n",
        "selected_items = best_chromosome * banyak_barang\n",
        "print('\\nBarang yang akan dibawa dan dimasukkan ke dalam tas:')\n",
        "for i in range(len(selected_items)):\n",
        "    if selected_items[i] != 0:\n",
        "        print('Item No. {} dengan berat {} dan nilai prioritas {}'.format(selected_items[i], berat[i], nilai_prioritas[i]))"
      ],
      "metadata": {
        "id": "P8rg68esE6-p"
      },
      "execution_count": null,
      "outputs": []
    },
    {
      "cell_type": "markdown",
      "source": [
        "Bagian kode ini bertujuan untuk menampilkan hasil akhir dari proses optimasi yang dilakukan oleh algoritma genetika. Ini dilakukan dalam beberapa langkah:\n",
        "\n",
        "1. **Menjalankan Fungsi Optimasi**:\n",
        "   - Pertama, fungsi `optimize` dijalankan dengan parameter yang diberikan, termasuk berat dan nilai prioritas barang, populasi awal, jumlah kromosom dalam populasi, jumlah generasi, batas maksimum berat yang dapat dibawa, serta nilai crossover rate dan mutation rate.\n",
        "   - Fungsi ini mengembalikan populasi yang telah dioptimalkan (`optimized_populasi`) dan riwayat kebugaran (`history`) dari setiap generasi.\n",
        "\n",
        "2. **Menemukan Kromosom dengan Kebugaran Tertinggi**:\n",
        "   - Langkah kedua adalah mengidentifikasi kromosom dengan kebugaran tertinggi di generasi terakhir. Ini dilakukan dengan mencari indeks (`best_fitness_idx`) dari nilai kebugaran tertinggi dalam `history[-1]`, yaitu kebugaran pada generasi terakhir.\n",
        "   - Kromosom dengan kebugaran tertinggi (`best_chromosome`) diambil dari `optimized_populasi` menggunakan indeks tersebut.\n",
        "\n",
        "3. **Menghitung dan Menampilkan Barang yang Dipilih**:\n",
        "   - Kode selanjutnya menghitung barang yang dipilih berdasarkan `best_chromosome`. Setiap gen dalam kromosom (0 atau 1) menandakan apakah barang tertentu diambil atau tidak.\n",
        "   - Untuk mendapatkan barang yang dipilih, `best_chromosome` dikalikan dengan array `banyak_barang`. Hasilnya adalah array `selected_items` yang berisi nomor barang yang dipilih.\n",
        "   - Kemudian, kode ini mencetak detail barang yang dipilih, termasuk nomor item, berat, dan nilai prioritasnya.\n",
        "\n",
        "Secara keseluruhan, bagian kode ini mengambil hasil dari proses algoritma genetika dan menyajikan informasi mengenai solusi optimal yang ditemukan, yaitu set barang mana yang harus dipilih untuk memaksimalkan nilai prioritas sambil tetap berada dalam batas berat yang diizinkan. Ini memberikan wawasan langsung tentang keefektifan algoritma dalam menyelesaikan masalah knapsack yang diberikan."
      ],
      "metadata": {
        "id": "2UQCQ0GLKjvF"
      }
    }
  ]
}